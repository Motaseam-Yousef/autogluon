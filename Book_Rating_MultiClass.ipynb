{
  "cells": [
    {
      "cell_type": "markdown",
      "id": "64687c6f",
      "metadata": {
        "id": "64687c6f"
      },
      "source": [
        "# Multi-Modal: Natural Language for MultiClass\n",
        "\n",
        "Let's explore how to combine tabular data with other modalities, in this case, natural language text reviews. We'll try to predict a customer's 1-5 star review of a book:"
      ]
    },
    {
      "cell_type": "markdown",
      "id": "e5953c1c",
      "metadata": {
        "id": "e5953c1c"
      },
      "source": [
        "We'll be using the data set from: https://www.kaggle.com/code/meetnagadia/amazon-kindle-book-sentiment-analysis"
      ]
    },
    {
      "cell_type": "markdown",
      "id": "4f83d597",
      "metadata": {
        "id": "4f83d597"
      },
      "source": [
        "We'll treat each star as its own class category"
      ]
    },
    {
      "cell_type": "code",
      "source": [
        "!pip install autogluon"
      ],
      "metadata": {
        "id": "yFuOsXSmalFS"
      },
      "id": "yFuOsXSmalFS",
      "execution_count": null,
      "outputs": []
    },
    {
      "cell_type": "markdown",
      "id": "8818965f",
      "metadata": {
        "id": "8818965f"
      },
      "source": [
        "## Imports"
      ]
    },
    {
      "cell_type": "code",
      "execution_count": 1,
      "id": "c402d24a",
      "metadata": {
        "id": "c402d24a"
      },
      "outputs": [],
      "source": [
        "from autogluon.tabular import TabularDataset, TabularPredictor"
      ]
    },
    {
      "cell_type": "markdown",
      "id": "d7cf9e17",
      "metadata": {
        "id": "d7cf9e17"
      },
      "source": [
        "## Data"
      ]
    },
    {
      "cell_type": "code",
      "execution_count": 4,
      "id": "b4ba6495",
      "metadata": {
        "id": "b4ba6495"
      },
      "outputs": [],
      "source": [
        "data = TabularDataset(\"/content/review.csv\")"
      ]
    },
    {
      "cell_type": "code",
      "execution_count": 5,
      "id": "df973025",
      "metadata": {
        "colab": {
          "base_uri": "https://localhost:8080/"
        },
        "id": "df973025",
        "outputId": "f59bce1c-3772-49ef-bc04-8b6423545780"
      },
      "outputs": [
        {
          "output_type": "execute_result",
          "data": {
            "text/plain": [
              "Index(['asin', 'rating', 'reviewText', 'reviewerID', 'reviewerName'], dtype='object')"
            ]
          },
          "metadata": {},
          "execution_count": 5
        }
      ],
      "source": [
        "data.columns"
      ]
    },
    {
      "cell_type": "code",
      "execution_count": 6,
      "id": "d57d54d6",
      "metadata": {
        "colab": {
          "base_uri": "https://localhost:8080/",
          "height": 206
        },
        "id": "d57d54d6",
        "outputId": "84c79856-55ce-4911-95f6-22bbdd70828b"
      },
      "outputs": [
        {
          "output_type": "execute_result",
          "data": {
            "text/plain": [
              "         asin  rating                                         reviewText  \\\n",
              "0  B0033UV8HI       3  Jace Rankin may be short, but he's nothing to ...   \n",
              "1  B002HJV4DE       5  Great short read.  I didn't want to put it dow...   \n",
              "2  B002ZG96I4       3  I'll start by saying this is the first of four...   \n",
              "3  B002QHWOEU       3  Aggie is Angela Lansbury who carries pocketboo...   \n",
              "4  B001A06VJ8       4  I did not expect this type of book to be in li...   \n",
              "\n",
              "       reviewerID  reviewerName  \n",
              "0  A3HHXRELK8BHQG        Ridley  \n",
              "1  A2RGNZ0TRF578I  Holly Butler  \n",
              "2  A3S0H2HV6U1I7F       Merissa  \n",
              "3   AC4OQW3GZ919J    Cleargrace  \n",
              "4  A3C9V987IQHOQD      Rjostler  "
            ],
            "text/html": [
              "\n",
              "  <div id=\"df-96a46963-2411-4a2d-8733-b80f64058f0c\">\n",
              "    <div class=\"colab-df-container\">\n",
              "      <div>\n",
              "<style scoped>\n",
              "    .dataframe tbody tr th:only-of-type {\n",
              "        vertical-align: middle;\n",
              "    }\n",
              "\n",
              "    .dataframe tbody tr th {\n",
              "        vertical-align: top;\n",
              "    }\n",
              "\n",
              "    .dataframe thead th {\n",
              "        text-align: right;\n",
              "    }\n",
              "</style>\n",
              "<table border=\"1\" class=\"dataframe\">\n",
              "  <thead>\n",
              "    <tr style=\"text-align: right;\">\n",
              "      <th></th>\n",
              "      <th>asin</th>\n",
              "      <th>rating</th>\n",
              "      <th>reviewText</th>\n",
              "      <th>reviewerID</th>\n",
              "      <th>reviewerName</th>\n",
              "    </tr>\n",
              "  </thead>\n",
              "  <tbody>\n",
              "    <tr>\n",
              "      <th>0</th>\n",
              "      <td>B0033UV8HI</td>\n",
              "      <td>3</td>\n",
              "      <td>Jace Rankin may be short, but he's nothing to ...</td>\n",
              "      <td>A3HHXRELK8BHQG</td>\n",
              "      <td>Ridley</td>\n",
              "    </tr>\n",
              "    <tr>\n",
              "      <th>1</th>\n",
              "      <td>B002HJV4DE</td>\n",
              "      <td>5</td>\n",
              "      <td>Great short read.  I didn't want to put it dow...</td>\n",
              "      <td>A2RGNZ0TRF578I</td>\n",
              "      <td>Holly Butler</td>\n",
              "    </tr>\n",
              "    <tr>\n",
              "      <th>2</th>\n",
              "      <td>B002ZG96I4</td>\n",
              "      <td>3</td>\n",
              "      <td>I'll start by saying this is the first of four...</td>\n",
              "      <td>A3S0H2HV6U1I7F</td>\n",
              "      <td>Merissa</td>\n",
              "    </tr>\n",
              "    <tr>\n",
              "      <th>3</th>\n",
              "      <td>B002QHWOEU</td>\n",
              "      <td>3</td>\n",
              "      <td>Aggie is Angela Lansbury who carries pocketboo...</td>\n",
              "      <td>AC4OQW3GZ919J</td>\n",
              "      <td>Cleargrace</td>\n",
              "    </tr>\n",
              "    <tr>\n",
              "      <th>4</th>\n",
              "      <td>B001A06VJ8</td>\n",
              "      <td>4</td>\n",
              "      <td>I did not expect this type of book to be in li...</td>\n",
              "      <td>A3C9V987IQHOQD</td>\n",
              "      <td>Rjostler</td>\n",
              "    </tr>\n",
              "  </tbody>\n",
              "</table>\n",
              "</div>\n",
              "      <button class=\"colab-df-convert\" onclick=\"convertToInteractive('df-96a46963-2411-4a2d-8733-b80f64058f0c')\"\n",
              "              title=\"Convert this dataframe to an interactive table.\"\n",
              "              style=\"display:none;\">\n",
              "        \n",
              "  <svg xmlns=\"http://www.w3.org/2000/svg\" height=\"24px\"viewBox=\"0 0 24 24\"\n",
              "       width=\"24px\">\n",
              "    <path d=\"M0 0h24v24H0V0z\" fill=\"none\"/>\n",
              "    <path d=\"M18.56 5.44l.94 2.06.94-2.06 2.06-.94-2.06-.94-.94-2.06-.94 2.06-2.06.94zm-11 1L8.5 8.5l.94-2.06 2.06-.94-2.06-.94L8.5 2.5l-.94 2.06-2.06.94zm10 10l.94 2.06.94-2.06 2.06-.94-2.06-.94-.94-2.06-.94 2.06-2.06.94z\"/><path d=\"M17.41 7.96l-1.37-1.37c-.4-.4-.92-.59-1.43-.59-.52 0-1.04.2-1.43.59L10.3 9.45l-7.72 7.72c-.78.78-.78 2.05 0 2.83L4 21.41c.39.39.9.59 1.41.59.51 0 1.02-.2 1.41-.59l7.78-7.78 2.81-2.81c.8-.78.8-2.07 0-2.86zM5.41 20L4 18.59l7.72-7.72 1.47 1.35L5.41 20z\"/>\n",
              "  </svg>\n",
              "      </button>\n",
              "      \n",
              "  <style>\n",
              "    .colab-df-container {\n",
              "      display:flex;\n",
              "      flex-wrap:wrap;\n",
              "      gap: 12px;\n",
              "    }\n",
              "\n",
              "    .colab-df-convert {\n",
              "      background-color: #E8F0FE;\n",
              "      border: none;\n",
              "      border-radius: 50%;\n",
              "      cursor: pointer;\n",
              "      display: none;\n",
              "      fill: #1967D2;\n",
              "      height: 32px;\n",
              "      padding: 0 0 0 0;\n",
              "      width: 32px;\n",
              "    }\n",
              "\n",
              "    .colab-df-convert:hover {\n",
              "      background-color: #E2EBFA;\n",
              "      box-shadow: 0px 1px 2px rgba(60, 64, 67, 0.3), 0px 1px 3px 1px rgba(60, 64, 67, 0.15);\n",
              "      fill: #174EA6;\n",
              "    }\n",
              "\n",
              "    [theme=dark] .colab-df-convert {\n",
              "      background-color: #3B4455;\n",
              "      fill: #D2E3FC;\n",
              "    }\n",
              "\n",
              "    [theme=dark] .colab-df-convert:hover {\n",
              "      background-color: #434B5C;\n",
              "      box-shadow: 0px 1px 3px 1px rgba(0, 0, 0, 0.15);\n",
              "      filter: drop-shadow(0px 1px 2px rgba(0, 0, 0, 0.3));\n",
              "      fill: #FFFFFF;\n",
              "    }\n",
              "  </style>\n",
              "\n",
              "      <script>\n",
              "        const buttonEl =\n",
              "          document.querySelector('#df-96a46963-2411-4a2d-8733-b80f64058f0c button.colab-df-convert');\n",
              "        buttonEl.style.display =\n",
              "          google.colab.kernel.accessAllowed ? 'block' : 'none';\n",
              "\n",
              "        async function convertToInteractive(key) {\n",
              "          const element = document.querySelector('#df-96a46963-2411-4a2d-8733-b80f64058f0c');\n",
              "          const dataTable =\n",
              "            await google.colab.kernel.invokeFunction('convertToInteractive',\n",
              "                                                     [key], {});\n",
              "          if (!dataTable) return;\n",
              "\n",
              "          const docLinkHtml = 'Like what you see? Visit the ' +\n",
              "            '<a target=\"_blank\" href=https://colab.research.google.com/notebooks/data_table.ipynb>data table notebook</a>'\n",
              "            + ' to learn more about interactive tables.';\n",
              "          element.innerHTML = '';\n",
              "          dataTable['output_type'] = 'display_data';\n",
              "          await google.colab.output.renderOutput(dataTable, element);\n",
              "          const docLink = document.createElement('div');\n",
              "          docLink.innerHTML = docLinkHtml;\n",
              "          element.appendChild(docLink);\n",
              "        }\n",
              "      </script>\n",
              "    </div>\n",
              "  </div>\n",
              "  "
            ]
          },
          "metadata": {},
          "execution_count": 6
        }
      ],
      "source": [
        "data.head()"
      ]
    },
    {
      "cell_type": "markdown",
      "id": "8385ec10",
      "metadata": {
        "id": "8385ec10"
      },
      "source": [
        "Note how we won't clean up this data or need to get rid of unique identifiers, AutoGluon is smart enough to feature engineer based on detected natural language text and unique values.\n",
        "\n",
        "## Train Test Split"
      ]
    },
    {
      "cell_type": "code",
      "execution_count": 7,
      "id": "f96158c0",
      "metadata": {
        "id": "f96158c0"
      },
      "outputs": [],
      "source": [
        "train_size = int(len(data) * 0.8)\n",
        "seed = 42\n",
        "train_data = data.sample(train_size, random_state=seed)\n",
        "test_data = data.drop(train_data.index)"
      ]
    },
    {
      "cell_type": "code",
      "execution_count": 8,
      "id": "bea77727",
      "metadata": {
        "id": "bea77727"
      },
      "outputs": [],
      "source": [
        "save_path = 'book_rating'"
      ]
    },
    {
      "cell_type": "code",
      "execution_count": 9,
      "id": "008a63d8",
      "metadata": {
        "id": "008a63d8"
      },
      "outputs": [],
      "source": [
        "predictor = TabularPredictor(label=\"rating\", path=save_path)\n"
      ]
    },
    {
      "cell_type": "markdown",
      "id": "complicated-marshall",
      "metadata": {
        "id": "complicated-marshall"
      },
      "source": [
        "Let's pass **multimodal** to the *hyperparameters* argument to tell autogluon that we want it to use its multimodal tuning procedure.\n",
        "This additionally trains a Transformer Network.\n",
        "\n",
        "Note that you need to have at least one nvidia GPU to be able to train a transformer in autogluon.\n",
        "Otherwise just remove the multimodal parameter and we train autogluon as usual."
      ]
    },
    {
      "cell_type": "code",
      "execution_count": 10,
      "id": "22644acb",
      "metadata": {
        "scrolled": false,
        "colab": {
          "base_uri": "https://localhost:8080/",
          "height": 1000,
          "referenced_widgets": [
            "647a42259e9741979e5e93ae249bd474",
            "65e68b469346446087d004411fdc48a6",
            "af4920165fdd4c90aaff7eb5669e08c9",
            "b1107fbc77d14f46bdb42143b12ecf12",
            "f9af8e96904e486cb355fdf1926c61b5",
            "e92ce4cc6f8f405ea5fc675e1699e48c",
            "53c771a79d4842559f0b6c757ab03cee",
            "a47613014c7e49cf8fba55cbe04e383b",
            "be32ffb72dad4650a51eba0017479331",
            "ca851de1af604201a36f03c10fb1f7f1",
            "1771d87e173a43cfa616fefe7e6b3c65",
            "4b0fe539c9424dd996f2467c706c99e4",
            "62045152d99a4808896f4f3d36c19d83",
            "b3554fea81e344458cdf885d4f168b2b",
            "d97d33fbb1284e7c8012b9ab6e9c3355",
            "c9b6ba6421b949bcb56ea6f5b829cdc8",
            "a634f3db30034edebbb31f704338e20d",
            "ba03271d83e2435eac2a31a1de753456",
            "f4a9955a0d314b25bc9315dbef7eacdf",
            "58dbaa648c6e4552b8045f33bf7d49bd",
            "c28782c7bbc84642b85a3f3b827b6b7e",
            "c5ba52c8738c409abf9aaf40a5b9ce66",
            "1f650c55a1bc4cb5a399499ec18122f1",
            "ed753ae6c85d4115b2230dfbea50261e",
            "0d0b2f6bc5c44368bebbce4a1d6ebd7d",
            "8f0cc2c0fee14c65b70e5a5d3e982abf",
            "1ea409f0e5604995a1fce1fd19d95beb",
            "1a26f9d34c804a59afd08650b7d0735e",
            "51edaf7cb7454c348878e03607ea6f79",
            "305f0168b1374df6ba84f588b87e7c9f",
            "95ea78988ee941408d9df966424bbe5d",
            "d094c605b75b4d9495b033eb842ba4e0",
            "ca2cbd6b6bc44c65ab017e63a5495389",
            "58b8b1c615e047daaec64968cad45c5e",
            "168cea2664c8408ca66f9f74c7c341bf",
            "6755f7d062f1416ea3e5a29ff31f4397",
            "de2b4986b25a4dc8b3c1c71c09c4e3e7",
            "83a594a94222450f9eb1b6f9eb15dc69",
            "0166f47fb8494b8d8fef40e274491b65",
            "a59cc03ee84a4bd7956623791436484f",
            "8d88d443466c43dea35ada64c2bca359",
            "6a9c889bfffc460cb46c42b92491f953",
            "8fdf49f2e0e441a8b4fd7e8e339a4da3",
            "de449078ebd74c91acf6b3987434e5af",
            "414d4158c4e44ec3ab291307aa70cf87",
            "64b3d74b1849431886007ea57b48d002",
            "3af183d875264bed8536f3c4bb33bc51",
            "354e5c4adf95479d9069ba8ff56f9e37",
            "7adb5483dcfb49b68af384682773cb62",
            "85d365b450124bf1af9388896f521476",
            "28bfceefd99f483da60780b7b7a0e2ee",
            "d9e09df19a494abaa80c000f53801c91",
            "b86e83a5c1584a36a4f677c9de4ec9e9",
            "7ff615a49e634c44b7fc2d3bf6d7ac74",
            "7baff82a5e084fa191d29ae11cddb68b"
          ]
        },
        "id": "22644acb",
        "outputId": "a6bcb48c-017b-4f79-daea-2bbd0121a575"
      },
      "outputs": [
        {
          "output_type": "stream",
          "name": "stderr",
          "text": [
            "Beginning AutoGluon training ...\n",
            "AutoGluon will save models to \"book_rating/\"\n",
            "AutoGluon Version:  0.7.0\n",
            "Python Version:     3.10.11\n",
            "Operating System:   Linux\n",
            "Platform Machine:   x86_64\n",
            "Platform Version:   #1 SMP Sat Apr 29 09:15:28 UTC 2023\n",
            "Train Data Rows:    9600\n",
            "Train Data Columns: 4\n",
            "Label Column: rating\n",
            "Preprocessing data ...\n",
            "AutoGluon infers your prediction problem is: 'multiclass' (because dtype of label-column == int, but few unique label-values observed).\n",
            "\t5 unique label values:  [3, 1, 2, 4, 5]\n",
            "\tIf 'multiclass' is not the correct problem_type, please manually specify the problem_type parameter during predictor init (You may specify problem_type as one of: ['binary', 'multiclass', 'regression'])\n",
            "Train Data Class Count: 5\n",
            "Using Feature Generators to preprocess the data ...\n",
            "Fitting AutoMLPipelineFeatureGenerator...\n",
            "\tAvailable Memory:                    12126.25 MB\n",
            "\tTrain Data (Original)  Memory Usage: 8.62 MB (0.1% of available memory)\n",
            "\tInferring data type of each feature based on column values. Set feature_metadata_in to manually specify special dtypes of the features.\n",
            "\tStage 1 Generators:\n",
            "\t\tFitting AsTypeFeatureGenerator...\n",
            "\tStage 2 Generators:\n",
            "\t\tFitting FillNaFeatureGenerator...\n",
            "\tStage 3 Generators:\n",
            "\t\tFitting IdentityFeatureGenerator...\n",
            "\t\t\tFitting RenameFeatureGenerator...\n",
            "\t\tFitting CategoryFeatureGenerator...\n",
            "\t\t\tFitting CategoryMemoryMinimizeFeatureGenerator...\n",
            "\t\tFitting TextSpecialFeatureGenerator...\n",
            "\t\t\tFitting BinnedFeatureGenerator...\n",
            "\t\t\tFitting DropDuplicatesFeatureGenerator...\n",
            "\t\tFitting TextNgramFeatureGenerator...\n",
            "\t\t\tFitting CountVectorizer for text features: ['reviewText']\n",
            "\t\t\tCountVectorizer fit with vocabulary size = 6657\n",
            "\tStage 4 Generators:\n",
            "\t\tFitting DropUniqueFeatureGenerator...\n",
            "\tTypes of features in original data (raw dtype, special dtypes):\n",
            "\t\t('object', [])       : 3 | ['asin', 'reviewerID', 'reviewerName']\n",
            "\t\t('object', ['text']) : 1 | ['reviewText']\n",
            "\tTypes of features in processed data (raw dtype, special dtypes):\n",
            "\t\t('category', [])                    :    3 | ['asin', 'reviewerID', 'reviewerName']\n",
            "\t\t('int', ['binned', 'text_special']) :   32 | ['reviewText.char_count', 'reviewText.word_count', 'reviewText.capital_ratio', 'reviewText.lower_ratio', 'reviewText.digit_ratio', ...]\n",
            "\t\t('int', ['text_ngram'])             : 6658 | ['__nlp__.000', '__nlp__.10', '__nlp__.100', '__nlp__.12', '__nlp__.14', ...]\n",
            "\t\t('object', ['text'])                :    1 | ['reviewText_raw_text']\n",
            "\t20.0s = Fit runtime\n",
            "\t4 features in original data used to generate 6694 features in processed data.\n",
            "\tTrain Data (Processed) Memory Usage: 134.81 MB (1.1% of available memory)\n",
            "Data preprocessing and feature engineering runtime = 21.45s ...\n",
            "AutoGluon will gauge predictive performance using evaluation metric: 'accuracy'\n",
            "\tTo change this, specify the eval_metric parameter of Predictor()\n",
            "Automatically generating train/validation split with holdout_frac=0.1, Train Rows: 8640, Val Rows: 960\n",
            "Fitting 8 L1 models ...\n",
            "Fitting model: LightGBM ...\n",
            "\t0.5344\t = Validation score   (accuracy)\n",
            "\t78.53s\t = Training   runtime\n",
            "\t0.37s\t = Validation runtime\n",
            "Fitting model: LightGBMXT ...\n",
            "\t0.5427\t = Validation score   (accuracy)\n",
            "\t92.97s\t = Training   runtime\n",
            "\t0.45s\t = Validation runtime\n",
            "Fitting model: CatBoost ...\n",
            "\tMany features detected (6693), dynamically setting 'colsample_bylevel' to 0.14940983116689077 to speed up training (Default = 1).\n",
            "\tTo disable this functionality, explicitly specify 'colsample_bylevel' in the model hyperparameters.\n",
            "\t0.6073\t = Validation score   (accuracy)\n",
            "\t710.61s\t = Training   runtime\n",
            "\t0.3s\t = Validation runtime\n",
            "Fitting model: XGBoost ...\n",
            "\t0.5385\t = Validation score   (accuracy)\n",
            "\t461.97s\t = Training   runtime\n",
            "\t0.36s\t = Validation runtime\n",
            "Fitting model: NeuralNetTorch ...\n",
            "\t0.3562\t = Validation score   (accuracy)\n",
            "\t15.11s\t = Training   runtime\n",
            "\t0.03s\t = Validation runtime\n",
            "Fitting model: VowpalWabbit ...\n",
            "\tWarning: Exception caused VowpalWabbit to fail during training (ImportError)... Skipping this model.\n",
            "\t\t`import vowpalwabbit` failed.\n",
            "A quick tip is to install via `pip install vowpalwabbit>=9,<9.5\n",
            "Fitting model: LightGBMLarge ...\n",
            "\t0.5521\t = Validation score   (accuracy)\n",
            "\t426.36s\t = Training   runtime\n",
            "\t0.89s\t = Validation runtime\n",
            "Fitting model: MultiModalPredictor ...\n",
            "INFO:lightning_fabric.utilities.seed:Global seed set to 0\n"
          ]
        },
        {
          "output_type": "display_data",
          "data": {
            "text/plain": [
              "Downloading (…)lve/main/config.json:   0%|          | 0.00/666 [00:00<?, ?B/s]"
            ],
            "application/vnd.jupyter.widget-view+json": {
              "version_major": 2,
              "version_minor": 0,
              "model_id": "647a42259e9741979e5e93ae249bd474"
            }
          },
          "metadata": {}
        },
        {
          "output_type": "display_data",
          "data": {
            "text/plain": [
              "Downloading pytorch_model.bin:   0%|          | 0.00/440M [00:00<?, ?B/s]"
            ],
            "application/vnd.jupyter.widget-view+json": {
              "version_major": 2,
              "version_minor": 0,
              "model_id": "4b0fe539c9424dd996f2467c706c99e4"
            }
          },
          "metadata": {}
        },
        {
          "output_type": "display_data",
          "data": {
            "text/plain": [
              "Downloading (…)okenizer_config.json:   0%|          | 0.00/27.0 [00:00<?, ?B/s]"
            ],
            "application/vnd.jupyter.widget-view+json": {
              "version_major": 2,
              "version_minor": 0,
              "model_id": "1f650c55a1bc4cb5a399499ec18122f1"
            }
          },
          "metadata": {}
        },
        {
          "output_type": "display_data",
          "data": {
            "text/plain": [
              "Downloading (…)solve/main/vocab.txt:   0%|          | 0.00/232k [00:00<?, ?B/s]"
            ],
            "application/vnd.jupyter.widget-view+json": {
              "version_major": 2,
              "version_minor": 0,
              "model_id": "58b8b1c615e047daaec64968cad45c5e"
            }
          },
          "metadata": {}
        },
        {
          "output_type": "display_data",
          "data": {
            "text/plain": [
              "Downloading (…)/main/tokenizer.json:   0%|          | 0.00/466k [00:00<?, ?B/s]"
            ],
            "application/vnd.jupyter.widget-view+json": {
              "version_major": 2,
              "version_minor": 0,
              "model_id": "414d4158c4e44ec3ab291307aa70cf87"
            }
          },
          "metadata": {}
        },
        {
          "output_type": "stream",
          "name": "stderr",
          "text": [
            "INFO:pytorch_lightning.utilities.rank_zero:Using 16bit None Automatic Mixed Precision (AMP)\n",
            "INFO:pytorch_lightning.utilities.rank_zero:GPU available: True (cuda), used: True\n",
            "INFO:pytorch_lightning.utilities.rank_zero:TPU available: False, using: 0 TPU cores\n",
            "INFO:pytorch_lightning.utilities.rank_zero:IPU available: False, using: 0 IPUs\n",
            "INFO:pytorch_lightning.utilities.rank_zero:HPU available: False, using: 0 HPUs\n",
            "INFO:pytorch_lightning.accelerators.cuda:LOCAL_RANK: 0 - CUDA_VISIBLE_DEVICES: [0]\n",
            "INFO:pytorch_lightning.callbacks.model_summary:\n",
            "  | Name              | Type                         | Params\n",
            "-------------------------------------------------------------------\n",
            "0 | model             | HFAutoModelForTextPrediction | 108 M \n",
            "1 | validation_metric | Accuracy                     | 0     \n",
            "2 | loss_func         | CrossEntropyLoss             | 0     \n",
            "-------------------------------------------------------------------\n",
            "108 M     Trainable params\n",
            "0         Non-trainable params\n",
            "108 M     Total params\n",
            "217.791   Total estimated model params size (MB)\n",
            "INFO:pytorch_lightning.utilities.rank_zero:Epoch 0, global step 33: 'val_accuracy' reached 0.50417 (best 0.50417), saving model to '/content/book_rating/models/MultiModalPredictor/automm_model/epoch=0-step=33.ckpt' as top 3\n",
            "INFO:pytorch_lightning.utilities.rank_zero:Epoch 0, global step 68: 'val_accuracy' reached 0.56563 (best 0.56563), saving model to '/content/book_rating/models/MultiModalPredictor/automm_model/epoch=0-step=68.ckpt' as top 3\n",
            "INFO:pytorch_lightning.utilities.rank_zero:Epoch 1, global step 101: 'val_accuracy' reached 0.62604 (best 0.62604), saving model to '/content/book_rating/models/MultiModalPredictor/automm_model/epoch=1-step=101.ckpt' as top 3\n",
            "INFO:pytorch_lightning.utilities.rank_zero:Epoch 1, global step 136: 'val_accuracy' reached 0.63542 (best 0.63542), saving model to '/content/book_rating/models/MultiModalPredictor/automm_model/epoch=1-step=136.ckpt' as top 3\n",
            "INFO:pytorch_lightning.utilities.rank_zero:Epoch 2, global step 169: 'val_accuracy' reached 0.65208 (best 0.65208), saving model to '/content/book_rating/models/MultiModalPredictor/automm_model/epoch=2-step=169.ckpt' as top 3\n",
            "INFO:pytorch_lightning.utilities.rank_zero:Epoch 2, global step 204: 'val_accuracy' reached 0.65938 (best 0.65938), saving model to '/content/book_rating/models/MultiModalPredictor/automm_model/epoch=2-step=204.ckpt' as top 3\n",
            "INFO:pytorch_lightning.utilities.rank_zero:Epoch 3, global step 237: 'val_accuracy' reached 0.65104 (best 0.65938), saving model to '/content/book_rating/models/MultiModalPredictor/automm_model/epoch=3-step=237.ckpt' as top 3\n",
            "INFO:pytorch_lightning.utilities.rank_zero:Epoch 3, global step 272: 'val_accuracy' reached 0.66146 (best 0.66146), saving model to '/content/book_rating/models/MultiModalPredictor/automm_model/epoch=3-step=272.ckpt' as top 3\n",
            "INFO:pytorch_lightning.utilities.rank_zero:Epoch 4, global step 305: 'val_accuracy' reached 0.65521 (best 0.66146), saving model to '/content/book_rating/models/MultiModalPredictor/automm_model/epoch=4-step=305.ckpt' as top 3\n",
            "INFO:pytorch_lightning.utilities.rank_zero:Epoch 4, global step 340: 'val_accuracy' reached 0.66458 (best 0.66458), saving model to '/content/book_rating/models/MultiModalPredictor/automm_model/epoch=4-step=340.ckpt' as top 3\n",
            "INFO:pytorch_lightning.utilities.rank_zero:Epoch 5, global step 373: 'val_accuracy' reached 0.66458 (best 0.66458), saving model to '/content/book_rating/models/MultiModalPredictor/automm_model/epoch=5-step=373.ckpt' as top 3\n",
            "INFO:pytorch_lightning.utilities.rank_zero:Epoch 5, global step 408: 'val_accuracy' was not in top 3\n",
            "INFO:pytorch_lightning.utilities.rank_zero:Epoch 6, global step 441: 'val_accuracy' was not in top 3\n",
            "INFO:pytorch_lightning.utilities.rank_zero:Epoch 6, global step 476: 'val_accuracy' was not in top 3\n",
            "INFO:pytorch_lightning.utilities.rank_zero:Epoch 7, global step 509: 'val_accuracy' was not in top 3\n",
            "INFO:pytorch_lightning.utilities.rank_zero:Epoch 7, global step 544: 'val_accuracy' was not in top 3\n",
            "INFO:pytorch_lightning.utilities.rank_zero:Epoch 8, global step 577: 'val_accuracy' reached 0.66354 (best 0.66458), saving model to '/content/book_rating/models/MultiModalPredictor/automm_model/epoch=8-step=577.ckpt' as top 3\n",
            "INFO:pytorch_lightning.utilities.rank_zero:Epoch 8, global step 612: 'val_accuracy' reached 0.66562 (best 0.66562), saving model to '/content/book_rating/models/MultiModalPredictor/automm_model/epoch=8-step=612.ckpt' as top 3\n",
            "INFO:pytorch_lightning.utilities.rank_zero:Epoch 9, global step 645: 'val_accuracy' was not in top 3\n",
            "INFO:pytorch_lightning.utilities.rank_zero:Epoch 9, global step 680: 'val_accuracy' was not in top 3\n",
            "INFO:pytorch_lightning.utilities.rank_zero:`Trainer.fit` stopped: `max_epochs=10` reached.\n",
            "Configuration saved in book_rating/models/MultiModalPredictor/automm_model/hf_text/config.json\n",
            "tokenizer config file saved in book_rating/models/MultiModalPredictor/automm_model/hf_text/tokenizer_config.json\n",
            "Special tokens file saved in book_rating/models/MultiModalPredictor/automm_model/hf_text/special_tokens_map.json\n",
            "\t0.6646\t = Validation score   (accuracy)\n",
            "\t3081.56s\t = Training   runtime\n",
            "\t11.87s\t = Validation runtime\n",
            "Fitting model: WeightedEnsemble_L2 ...\n",
            "\t0.6812\t = Validation score   (accuracy)\n",
            "\t0.76s\t = Training   runtime\n",
            "\t0.0s\t = Validation runtime\n",
            "AutoGluon training complete, total runtime = 4912.42s ... Best model: \"WeightedEnsemble_L2\"\n",
            "TabularPredictor saved. To load, use: predictor = TabularPredictor.load(\"book_rating/\")\n"
          ]
        },
        {
          "output_type": "execute_result",
          "data": {
            "text/plain": [
              "<autogluon.tabular.predictor.predictor.TabularPredictor at 0x7f89b5636fe0>"
            ]
          },
          "metadata": {},
          "execution_count": 10
        }
      ],
      "source": [
        "predictor.fit(train_data, hyperparameters=\"multimodal\")"
      ]
    },
    {
      "cell_type": "code",
      "execution_count": 11,
      "id": "equivalent-malta",
      "metadata": {
        "scrolled": true,
        "colab": {
          "base_uri": "https://localhost:8080/",
          "height": 36
        },
        "id": "equivalent-malta",
        "outputId": "54863849-da51-4cda-c3ae-46ccf8b38345"
      },
      "outputs": [
        {
          "output_type": "execute_result",
          "data": {
            "text/plain": [
              "'WeightedEnsemble_L2'"
            ],
            "application/vnd.google.colaboratory.intrinsic+json": {
              "type": "string"
            }
          },
          "metadata": {},
          "execution_count": 11
        }
      ],
      "source": [
        "predictor.get_model_best()"
      ]
    },
    {
      "cell_type": "code",
      "execution_count": 12,
      "id": "a5cc8ffb",
      "metadata": {
        "scrolled": false,
        "colab": {
          "base_uri": "https://localhost:8080/"
        },
        "id": "a5cc8ffb",
        "outputId": "55f9da65-7e76-45d8-8c02-618e5c8b62d7"
      },
      "outputs": [
        {
          "output_type": "stream",
          "name": "stderr",
          "text": [
            "loading file vocab.txt\n",
            "loading file tokenizer.json\n",
            "loading file added_tokens.json\n",
            "loading file special_tokens_map.json\n",
            "loading file tokenizer_config.json\n",
            "loading configuration file /content/book_rating/models/MultiModalPredictor/automm_model/hf_text/config.json\n",
            "Model config ElectraConfig {\n",
            "  \"_name_or_path\": \"/content/book_rating/models/MultiModalPredictor/automm_model/hf_text\",\n",
            "  \"architectures\": [\n",
            "    \"ElectraForPreTraining\"\n",
            "  ],\n",
            "  \"attention_probs_dropout_prob\": 0.1,\n",
            "  \"classifier_dropout\": null,\n",
            "  \"embedding_size\": 768,\n",
            "  \"hidden_act\": \"gelu\",\n",
            "  \"hidden_dropout_prob\": 0.1,\n",
            "  \"hidden_size\": 768,\n",
            "  \"initializer_range\": 0.02,\n",
            "  \"intermediate_size\": 3072,\n",
            "  \"layer_norm_eps\": 1e-12,\n",
            "  \"max_position_embeddings\": 512,\n",
            "  \"model_type\": \"electra\",\n",
            "  \"num_attention_heads\": 12,\n",
            "  \"num_hidden_layers\": 12,\n",
            "  \"pad_token_id\": 0,\n",
            "  \"position_embedding_type\": \"absolute\",\n",
            "  \"summary_activation\": \"gelu\",\n",
            "  \"summary_last_dropout\": 0.1,\n",
            "  \"summary_type\": \"first\",\n",
            "  \"summary_use_proj\": true,\n",
            "  \"transformers_version\": \"4.26.1\",\n",
            "  \"type_vocab_size\": 2,\n",
            "  \"use_cache\": true,\n",
            "  \"vocab_size\": 30522\n",
            "}\n",
            "\n",
            "loading file vocab.txt\n",
            "loading file tokenizer.json\n",
            "loading file added_tokens.json\n",
            "loading file special_tokens_map.json\n",
            "loading file tokenizer_config.json\n",
            "Load pretrained checkpoint: /content/book_rating/models/MultiModalPredictor/automm_model/model.ckpt\n"
          ]
        },
        {
          "output_type": "stream",
          "name": "stdout",
          "text": [
            "*** Summary of fit() ***\n",
            "Estimated performance of each model:\n",
            "                 model  score_val  pred_time_val     fit_time  pred_time_val_marginal  fit_time_marginal  stack_level  can_infer  fit_order\n",
            "0  WeightedEnsemble_L2   0.681250      13.010919  4362.976965                0.001352           0.759977            2       True          8\n",
            "1  MultiModalPredictor   0.664583      11.874377  3081.556531               11.874377        3081.556531            1       True          7\n",
            "2             CatBoost   0.607292       0.296715   710.614187                0.296715         710.614187            1       True          3\n",
            "3        LightGBMLarge   0.552083       0.885358   426.364580                0.885358         426.364580            1       True          6\n",
            "4           LightGBMXT   0.542708       0.454408    92.971035                0.454408          92.971035            1       True          2\n",
            "5              XGBoost   0.538542       0.355685   461.968846                0.355685         461.968846            1       True          4\n",
            "6             LightGBM   0.534375       0.366834    78.525657                0.366834          78.525657            1       True          1\n",
            "7       NeuralNetTorch   0.356250       0.028383    15.106390                0.028383          15.106390            1       True          5\n",
            "Number of models trained: 8\n",
            "Types of models trained:\n",
            "{'TabularNeuralNetTorchModel', 'XGBoostModel', 'LGBModel', 'CatBoostModel', 'WeightedEnsembleModel', 'MultiModalPredictorModel'}\n",
            "Bagging used: False \n",
            "Multi-layer stack-ensembling used: False \n",
            "Feature Metadata (Processed):\n",
            "(raw dtype, special dtypes):\n",
            "('category', [])                    :    3 | ['asin', 'reviewerID', 'reviewerName']\n",
            "('int', ['binned', 'text_special']) :   32 | ['reviewText.char_count', 'reviewText.word_count', 'reviewText.capital_ratio', 'reviewText.lower_ratio', 'reviewText.digit_ratio', ...]\n",
            "('int', ['text_ngram'])             : 6658 | ['__nlp__.000', '__nlp__.10', '__nlp__.100', '__nlp__.12', '__nlp__.14', ...]\n",
            "('object', ['text'])                :    1 | ['reviewText_raw_text']\n",
            "Plot summary of models saved to file: book_rating/SummaryOfModels.html\n",
            "*** End of fit() summary ***\n"
          ]
        }
      ],
      "source": [
        "predictor.fit_summary();"
      ]
    },
    {
      "cell_type": "markdown",
      "id": "3d28e48b",
      "metadata": {
        "id": "3d28e48b"
      },
      "source": [
        "## Validation on Test Set"
      ]
    },
    {
      "cell_type": "code",
      "execution_count": 13,
      "id": "351f37aa",
      "metadata": {
        "id": "351f37aa"
      },
      "outputs": [],
      "source": [
        "y_test = test_data[\"rating\"]\n",
        "test_features = test_data.drop(columns=[\"rating\"])"
      ]
    },
    {
      "cell_type": "code",
      "execution_count": 14,
      "id": "fef2962f",
      "metadata": {
        "scrolled": true,
        "colab": {
          "base_uri": "https://localhost:8080/"
        },
        "id": "fef2962f",
        "outputId": "98efb47d-13f8-4de7-c208-061f3b4bc7cc"
      },
      "outputs": [
        {
          "output_type": "stream",
          "name": "stderr",
          "text": [
            "loading file vocab.txt\n",
            "loading file tokenizer.json\n",
            "loading file added_tokens.json\n",
            "loading file special_tokens_map.json\n",
            "loading file tokenizer_config.json\n",
            "loading configuration file /content/book_rating/models/MultiModalPredictor/automm_model/hf_text/config.json\n",
            "Model config ElectraConfig {\n",
            "  \"_name_or_path\": \"/content/book_rating/models/MultiModalPredictor/automm_model/hf_text\",\n",
            "  \"architectures\": [\n",
            "    \"ElectraForPreTraining\"\n",
            "  ],\n",
            "  \"attention_probs_dropout_prob\": 0.1,\n",
            "  \"classifier_dropout\": null,\n",
            "  \"embedding_size\": 768,\n",
            "  \"hidden_act\": \"gelu\",\n",
            "  \"hidden_dropout_prob\": 0.1,\n",
            "  \"hidden_size\": 768,\n",
            "  \"initializer_range\": 0.02,\n",
            "  \"intermediate_size\": 3072,\n",
            "  \"layer_norm_eps\": 1e-12,\n",
            "  \"max_position_embeddings\": 512,\n",
            "  \"model_type\": \"electra\",\n",
            "  \"num_attention_heads\": 12,\n",
            "  \"num_hidden_layers\": 12,\n",
            "  \"pad_token_id\": 0,\n",
            "  \"position_embedding_type\": \"absolute\",\n",
            "  \"summary_activation\": \"gelu\",\n",
            "  \"summary_last_dropout\": 0.1,\n",
            "  \"summary_type\": \"first\",\n",
            "  \"summary_use_proj\": true,\n",
            "  \"transformers_version\": \"4.26.1\",\n",
            "  \"type_vocab_size\": 2,\n",
            "  \"use_cache\": true,\n",
            "  \"vocab_size\": 30522\n",
            "}\n",
            "\n",
            "loading file vocab.txt\n",
            "loading file tokenizer.json\n",
            "loading file added_tokens.json\n",
            "loading file special_tokens_map.json\n",
            "loading file tokenizer_config.json\n",
            "Load pretrained checkpoint: /content/book_rating/models/MultiModalPredictor/automm_model/model.ckpt\n",
            "Token indices sequence length is longer than the specified maximum sequence length for this model (572 > 512). Running this sequence through the model will result in indexing errors\n",
            "Token indices sequence length is longer than the specified maximum sequence length for this model (608 > 512). Running this sequence through the model will result in indexing errors\n"
          ]
        }
      ],
      "source": [
        "y_pred = predictor.predict(test_features)"
      ]
    },
    {
      "cell_type": "code",
      "execution_count": 15,
      "id": "2647b4e8",
      "metadata": {
        "colab": {
          "base_uri": "https://localhost:8080/"
        },
        "id": "2647b4e8",
        "outputId": "477c5003-da35-493b-c71a-10840184b441"
      },
      "outputs": [
        {
          "output_type": "stream",
          "name": "stderr",
          "text": [
            "Evaluation: accuracy on test data: 0.6808333333333333\n",
            "Evaluations on test data:\n",
            "{\n",
            "    \"accuracy\": 0.6808333333333333,\n",
            "    \"balanced_accuracy\": 0.6664195815842446,\n",
            "    \"mcc\": 0.5966166438068452\n",
            "}\n"
          ]
        }
      ],
      "source": [
        "metrics = predictor.evaluate_predictions(y_true=y_test, y_pred=y_pred, auxiliary_metrics=True)"
      ]
    },
    {
      "cell_type": "code",
      "execution_count": 16,
      "id": "13852330",
      "metadata": {
        "colab": {
          "base_uri": "https://localhost:8080/"
        },
        "id": "13852330",
        "outputId": "15a28ce7-b18b-40bf-cad8-c73a8dc350de"
      },
      "outputs": [
        {
          "output_type": "execute_result",
          "data": {
            "text/plain": [
              "{'accuracy': 0.6808333333333333,\n",
              " 'balanced_accuracy': 0.6664195815842446,\n",
              " 'mcc': 0.5966166438068452}"
            ]
          },
          "metadata": {},
          "execution_count": 16
        }
      ],
      "source": [
        "metrics"
      ]
    },
    {
      "cell_type": "markdown",
      "id": "9e2b312f",
      "metadata": {
        "id": "9e2b312f"
      },
      "source": [
        "Notice how the accuracy is 60%, this is actually very good for 5 classes, a random guess would be only 20% accurate! Plus this is a difficult problem with 3-4 stars being hard to discern."
      ]
    },
    {
      "cell_type": "markdown",
      "id": "8e2af6e6",
      "metadata": {
        "id": "8e2af6e6"
      },
      "source": [
        "We can use sklearn to obtain more in-depth metrics like a confusion matrix"
      ]
    },
    {
      "cell_type": "code",
      "execution_count": 17,
      "id": "791fcb61",
      "metadata": {
        "id": "791fcb61"
      },
      "outputs": [],
      "source": [
        "from sklearn.metrics import confusion_matrix"
      ]
    },
    {
      "cell_type": "code",
      "execution_count": 18,
      "id": "3ee03eb5",
      "metadata": {
        "colab": {
          "base_uri": "https://localhost:8080/"
        },
        "id": "3ee03eb5",
        "outputId": "a3325379-a2de-4bde-c3b5-44d200f413f0"
      },
      "outputs": [
        {
          "output_type": "execute_result",
          "data": {
            "text/plain": [
              "array([[294,  92,  14,   3,   5],\n",
              "       [100, 219,  49,   9,   5],\n",
              "       [ 12,  55, 231, 103,  23],\n",
              "       [  6,   4,  46, 367, 149],\n",
              "       [  0,   0,   4,  87, 523]])"
            ]
          },
          "metadata": {},
          "execution_count": 18
        }
      ],
      "source": [
        "confusion_matrix(y_test, y_pred)"
      ]
    },
    {
      "cell_type": "markdown",
      "id": "1965b1f9",
      "metadata": {
        "id": "1965b1f9"
      },
      "source": [
        "We can see that the model mainly had difficulty in trying to differentiate between 3 and 4 as well as 4 and 5, which is very reasonable, as that can also be hard for human to discern and its very subjective!"
      ]
    }
  ],
  "metadata": {
    "kernelspec": {
      "display_name": "Python 3",
      "name": "python3"
    },
    "language_info": {
      "codemirror_mode": {
        "name": "ipython",
        "version": 3
      },
      "file_extension": ".py",
      "mimetype": "text/x-python",
      "name": "python",
      "nbconvert_exporter": "python",
      "pygments_lexer": "ipython3",
      "version": "3.9.12"
    },
    "colab": {
      "provenance": [],
      "gpuType": "T4"
    },
    "accelerator": "GPU",
    "widgets": {
      "application/vnd.jupyter.widget-state+json": {
        "647a42259e9741979e5e93ae249bd474": {
          "model_module": "@jupyter-widgets/controls",
          "model_name": "HBoxModel",
          "model_module_version": "1.5.0",
          "state": {
            "_dom_classes": [],
            "_model_module": "@jupyter-widgets/controls",
            "_model_module_version": "1.5.0",
            "_model_name": "HBoxModel",
            "_view_count": null,
            "_view_module": "@jupyter-widgets/controls",
            "_view_module_version": "1.5.0",
            "_view_name": "HBoxView",
            "box_style": "",
            "children": [
              "IPY_MODEL_65e68b469346446087d004411fdc48a6",
              "IPY_MODEL_af4920165fdd4c90aaff7eb5669e08c9",
              "IPY_MODEL_b1107fbc77d14f46bdb42143b12ecf12"
            ],
            "layout": "IPY_MODEL_f9af8e96904e486cb355fdf1926c61b5"
          }
        },
        "65e68b469346446087d004411fdc48a6": {
          "model_module": "@jupyter-widgets/controls",
          "model_name": "HTMLModel",
          "model_module_version": "1.5.0",
          "state": {
            "_dom_classes": [],
            "_model_module": "@jupyter-widgets/controls",
            "_model_module_version": "1.5.0",
            "_model_name": "HTMLModel",
            "_view_count": null,
            "_view_module": "@jupyter-widgets/controls",
            "_view_module_version": "1.5.0",
            "_view_name": "HTMLView",
            "description": "",
            "description_tooltip": null,
            "layout": "IPY_MODEL_e92ce4cc6f8f405ea5fc675e1699e48c",
            "placeholder": "​",
            "style": "IPY_MODEL_53c771a79d4842559f0b6c757ab03cee",
            "value": "Downloading (…)lve/main/config.json: 100%"
          }
        },
        "af4920165fdd4c90aaff7eb5669e08c9": {
          "model_module": "@jupyter-widgets/controls",
          "model_name": "FloatProgressModel",
          "model_module_version": "1.5.0",
          "state": {
            "_dom_classes": [],
            "_model_module": "@jupyter-widgets/controls",
            "_model_module_version": "1.5.0",
            "_model_name": "FloatProgressModel",
            "_view_count": null,
            "_view_module": "@jupyter-widgets/controls",
            "_view_module_version": "1.5.0",
            "_view_name": "ProgressView",
            "bar_style": "success",
            "description": "",
            "description_tooltip": null,
            "layout": "IPY_MODEL_a47613014c7e49cf8fba55cbe04e383b",
            "max": 666,
            "min": 0,
            "orientation": "horizontal",
            "style": "IPY_MODEL_be32ffb72dad4650a51eba0017479331",
            "value": 666
          }
        },
        "b1107fbc77d14f46bdb42143b12ecf12": {
          "model_module": "@jupyter-widgets/controls",
          "model_name": "HTMLModel",
          "model_module_version": "1.5.0",
          "state": {
            "_dom_classes": [],
            "_model_module": "@jupyter-widgets/controls",
            "_model_module_version": "1.5.0",
            "_model_name": "HTMLModel",
            "_view_count": null,
            "_view_module": "@jupyter-widgets/controls",
            "_view_module_version": "1.5.0",
            "_view_name": "HTMLView",
            "description": "",
            "description_tooltip": null,
            "layout": "IPY_MODEL_ca851de1af604201a36f03c10fb1f7f1",
            "placeholder": "​",
            "style": "IPY_MODEL_1771d87e173a43cfa616fefe7e6b3c65",
            "value": " 666/666 [00:00&lt;00:00, 25.3kB/s]"
          }
        },
        "f9af8e96904e486cb355fdf1926c61b5": {
          "model_module": "@jupyter-widgets/base",
          "model_name": "LayoutModel",
          "model_module_version": "1.2.0",
          "state": {
            "_model_module": "@jupyter-widgets/base",
            "_model_module_version": "1.2.0",
            "_model_name": "LayoutModel",
            "_view_count": null,
            "_view_module": "@jupyter-widgets/base",
            "_view_module_version": "1.2.0",
            "_view_name": "LayoutView",
            "align_content": null,
            "align_items": null,
            "align_self": null,
            "border": null,
            "bottom": null,
            "display": null,
            "flex": null,
            "flex_flow": null,
            "grid_area": null,
            "grid_auto_columns": null,
            "grid_auto_flow": null,
            "grid_auto_rows": null,
            "grid_column": null,
            "grid_gap": null,
            "grid_row": null,
            "grid_template_areas": null,
            "grid_template_columns": null,
            "grid_template_rows": null,
            "height": null,
            "justify_content": null,
            "justify_items": null,
            "left": null,
            "margin": null,
            "max_height": null,
            "max_width": null,
            "min_height": null,
            "min_width": null,
            "object_fit": null,
            "object_position": null,
            "order": null,
            "overflow": null,
            "overflow_x": null,
            "overflow_y": null,
            "padding": null,
            "right": null,
            "top": null,
            "visibility": null,
            "width": null
          }
        },
        "e92ce4cc6f8f405ea5fc675e1699e48c": {
          "model_module": "@jupyter-widgets/base",
          "model_name": "LayoutModel",
          "model_module_version": "1.2.0",
          "state": {
            "_model_module": "@jupyter-widgets/base",
            "_model_module_version": "1.2.0",
            "_model_name": "LayoutModel",
            "_view_count": null,
            "_view_module": "@jupyter-widgets/base",
            "_view_module_version": "1.2.0",
            "_view_name": "LayoutView",
            "align_content": null,
            "align_items": null,
            "align_self": null,
            "border": null,
            "bottom": null,
            "display": null,
            "flex": null,
            "flex_flow": null,
            "grid_area": null,
            "grid_auto_columns": null,
            "grid_auto_flow": null,
            "grid_auto_rows": null,
            "grid_column": null,
            "grid_gap": null,
            "grid_row": null,
            "grid_template_areas": null,
            "grid_template_columns": null,
            "grid_template_rows": null,
            "height": null,
            "justify_content": null,
            "justify_items": null,
            "left": null,
            "margin": null,
            "max_height": null,
            "max_width": null,
            "min_height": null,
            "min_width": null,
            "object_fit": null,
            "object_position": null,
            "order": null,
            "overflow": null,
            "overflow_x": null,
            "overflow_y": null,
            "padding": null,
            "right": null,
            "top": null,
            "visibility": null,
            "width": null
          }
        },
        "53c771a79d4842559f0b6c757ab03cee": {
          "model_module": "@jupyter-widgets/controls",
          "model_name": "DescriptionStyleModel",
          "model_module_version": "1.5.0",
          "state": {
            "_model_module": "@jupyter-widgets/controls",
            "_model_module_version": "1.5.0",
            "_model_name": "DescriptionStyleModel",
            "_view_count": null,
            "_view_module": "@jupyter-widgets/base",
            "_view_module_version": "1.2.0",
            "_view_name": "StyleView",
            "description_width": ""
          }
        },
        "a47613014c7e49cf8fba55cbe04e383b": {
          "model_module": "@jupyter-widgets/base",
          "model_name": "LayoutModel",
          "model_module_version": "1.2.0",
          "state": {
            "_model_module": "@jupyter-widgets/base",
            "_model_module_version": "1.2.0",
            "_model_name": "LayoutModel",
            "_view_count": null,
            "_view_module": "@jupyter-widgets/base",
            "_view_module_version": "1.2.0",
            "_view_name": "LayoutView",
            "align_content": null,
            "align_items": null,
            "align_self": null,
            "border": null,
            "bottom": null,
            "display": null,
            "flex": null,
            "flex_flow": null,
            "grid_area": null,
            "grid_auto_columns": null,
            "grid_auto_flow": null,
            "grid_auto_rows": null,
            "grid_column": null,
            "grid_gap": null,
            "grid_row": null,
            "grid_template_areas": null,
            "grid_template_columns": null,
            "grid_template_rows": null,
            "height": null,
            "justify_content": null,
            "justify_items": null,
            "left": null,
            "margin": null,
            "max_height": null,
            "max_width": null,
            "min_height": null,
            "min_width": null,
            "object_fit": null,
            "object_position": null,
            "order": null,
            "overflow": null,
            "overflow_x": null,
            "overflow_y": null,
            "padding": null,
            "right": null,
            "top": null,
            "visibility": null,
            "width": null
          }
        },
        "be32ffb72dad4650a51eba0017479331": {
          "model_module": "@jupyter-widgets/controls",
          "model_name": "ProgressStyleModel",
          "model_module_version": "1.5.0",
          "state": {
            "_model_module": "@jupyter-widgets/controls",
            "_model_module_version": "1.5.0",
            "_model_name": "ProgressStyleModel",
            "_view_count": null,
            "_view_module": "@jupyter-widgets/base",
            "_view_module_version": "1.2.0",
            "_view_name": "StyleView",
            "bar_color": null,
            "description_width": ""
          }
        },
        "ca851de1af604201a36f03c10fb1f7f1": {
          "model_module": "@jupyter-widgets/base",
          "model_name": "LayoutModel",
          "model_module_version": "1.2.0",
          "state": {
            "_model_module": "@jupyter-widgets/base",
            "_model_module_version": "1.2.0",
            "_model_name": "LayoutModel",
            "_view_count": null,
            "_view_module": "@jupyter-widgets/base",
            "_view_module_version": "1.2.0",
            "_view_name": "LayoutView",
            "align_content": null,
            "align_items": null,
            "align_self": null,
            "border": null,
            "bottom": null,
            "display": null,
            "flex": null,
            "flex_flow": null,
            "grid_area": null,
            "grid_auto_columns": null,
            "grid_auto_flow": null,
            "grid_auto_rows": null,
            "grid_column": null,
            "grid_gap": null,
            "grid_row": null,
            "grid_template_areas": null,
            "grid_template_columns": null,
            "grid_template_rows": null,
            "height": null,
            "justify_content": null,
            "justify_items": null,
            "left": null,
            "margin": null,
            "max_height": null,
            "max_width": null,
            "min_height": null,
            "min_width": null,
            "object_fit": null,
            "object_position": null,
            "order": null,
            "overflow": null,
            "overflow_x": null,
            "overflow_y": null,
            "padding": null,
            "right": null,
            "top": null,
            "visibility": null,
            "width": null
          }
        },
        "1771d87e173a43cfa616fefe7e6b3c65": {
          "model_module": "@jupyter-widgets/controls",
          "model_name": "DescriptionStyleModel",
          "model_module_version": "1.5.0",
          "state": {
            "_model_module": "@jupyter-widgets/controls",
            "_model_module_version": "1.5.0",
            "_model_name": "DescriptionStyleModel",
            "_view_count": null,
            "_view_module": "@jupyter-widgets/base",
            "_view_module_version": "1.2.0",
            "_view_name": "StyleView",
            "description_width": ""
          }
        },
        "4b0fe539c9424dd996f2467c706c99e4": {
          "model_module": "@jupyter-widgets/controls",
          "model_name": "HBoxModel",
          "model_module_version": "1.5.0",
          "state": {
            "_dom_classes": [],
            "_model_module": "@jupyter-widgets/controls",
            "_model_module_version": "1.5.0",
            "_model_name": "HBoxModel",
            "_view_count": null,
            "_view_module": "@jupyter-widgets/controls",
            "_view_module_version": "1.5.0",
            "_view_name": "HBoxView",
            "box_style": "",
            "children": [
              "IPY_MODEL_62045152d99a4808896f4f3d36c19d83",
              "IPY_MODEL_b3554fea81e344458cdf885d4f168b2b",
              "IPY_MODEL_d97d33fbb1284e7c8012b9ab6e9c3355"
            ],
            "layout": "IPY_MODEL_c9b6ba6421b949bcb56ea6f5b829cdc8"
          }
        },
        "62045152d99a4808896f4f3d36c19d83": {
          "model_module": "@jupyter-widgets/controls",
          "model_name": "HTMLModel",
          "model_module_version": "1.5.0",
          "state": {
            "_dom_classes": [],
            "_model_module": "@jupyter-widgets/controls",
            "_model_module_version": "1.5.0",
            "_model_name": "HTMLModel",
            "_view_count": null,
            "_view_module": "@jupyter-widgets/controls",
            "_view_module_version": "1.5.0",
            "_view_name": "HTMLView",
            "description": "",
            "description_tooltip": null,
            "layout": "IPY_MODEL_a634f3db30034edebbb31f704338e20d",
            "placeholder": "​",
            "style": "IPY_MODEL_ba03271d83e2435eac2a31a1de753456",
            "value": "Downloading pytorch_model.bin: 100%"
          }
        },
        "b3554fea81e344458cdf885d4f168b2b": {
          "model_module": "@jupyter-widgets/controls",
          "model_name": "FloatProgressModel",
          "model_module_version": "1.5.0",
          "state": {
            "_dom_classes": [],
            "_model_module": "@jupyter-widgets/controls",
            "_model_module_version": "1.5.0",
            "_model_name": "FloatProgressModel",
            "_view_count": null,
            "_view_module": "@jupyter-widgets/controls",
            "_view_module_version": "1.5.0",
            "_view_name": "ProgressView",
            "bar_style": "success",
            "description": "",
            "description_tooltip": null,
            "layout": "IPY_MODEL_f4a9955a0d314b25bc9315dbef7eacdf",
            "max": 440343552,
            "min": 0,
            "orientation": "horizontal",
            "style": "IPY_MODEL_58dbaa648c6e4552b8045f33bf7d49bd",
            "value": 440343552
          }
        },
        "d97d33fbb1284e7c8012b9ab6e9c3355": {
          "model_module": "@jupyter-widgets/controls",
          "model_name": "HTMLModel",
          "model_module_version": "1.5.0",
          "state": {
            "_dom_classes": [],
            "_model_module": "@jupyter-widgets/controls",
            "_model_module_version": "1.5.0",
            "_model_name": "HTMLModel",
            "_view_count": null,
            "_view_module": "@jupyter-widgets/controls",
            "_view_module_version": "1.5.0",
            "_view_name": "HTMLView",
            "description": "",
            "description_tooltip": null,
            "layout": "IPY_MODEL_c28782c7bbc84642b85a3f3b827b6b7e",
            "placeholder": "​",
            "style": "IPY_MODEL_c5ba52c8738c409abf9aaf40a5b9ce66",
            "value": " 440M/440M [00:01&lt;00:00, 243MB/s]"
          }
        },
        "c9b6ba6421b949bcb56ea6f5b829cdc8": {
          "model_module": "@jupyter-widgets/base",
          "model_name": "LayoutModel",
          "model_module_version": "1.2.0",
          "state": {
            "_model_module": "@jupyter-widgets/base",
            "_model_module_version": "1.2.0",
            "_model_name": "LayoutModel",
            "_view_count": null,
            "_view_module": "@jupyter-widgets/base",
            "_view_module_version": "1.2.0",
            "_view_name": "LayoutView",
            "align_content": null,
            "align_items": null,
            "align_self": null,
            "border": null,
            "bottom": null,
            "display": null,
            "flex": null,
            "flex_flow": null,
            "grid_area": null,
            "grid_auto_columns": null,
            "grid_auto_flow": null,
            "grid_auto_rows": null,
            "grid_column": null,
            "grid_gap": null,
            "grid_row": null,
            "grid_template_areas": null,
            "grid_template_columns": null,
            "grid_template_rows": null,
            "height": null,
            "justify_content": null,
            "justify_items": null,
            "left": null,
            "margin": null,
            "max_height": null,
            "max_width": null,
            "min_height": null,
            "min_width": null,
            "object_fit": null,
            "object_position": null,
            "order": null,
            "overflow": null,
            "overflow_x": null,
            "overflow_y": null,
            "padding": null,
            "right": null,
            "top": null,
            "visibility": null,
            "width": null
          }
        },
        "a634f3db30034edebbb31f704338e20d": {
          "model_module": "@jupyter-widgets/base",
          "model_name": "LayoutModel",
          "model_module_version": "1.2.0",
          "state": {
            "_model_module": "@jupyter-widgets/base",
            "_model_module_version": "1.2.0",
            "_model_name": "LayoutModel",
            "_view_count": null,
            "_view_module": "@jupyter-widgets/base",
            "_view_module_version": "1.2.0",
            "_view_name": "LayoutView",
            "align_content": null,
            "align_items": null,
            "align_self": null,
            "border": null,
            "bottom": null,
            "display": null,
            "flex": null,
            "flex_flow": null,
            "grid_area": null,
            "grid_auto_columns": null,
            "grid_auto_flow": null,
            "grid_auto_rows": null,
            "grid_column": null,
            "grid_gap": null,
            "grid_row": null,
            "grid_template_areas": null,
            "grid_template_columns": null,
            "grid_template_rows": null,
            "height": null,
            "justify_content": null,
            "justify_items": null,
            "left": null,
            "margin": null,
            "max_height": null,
            "max_width": null,
            "min_height": null,
            "min_width": null,
            "object_fit": null,
            "object_position": null,
            "order": null,
            "overflow": null,
            "overflow_x": null,
            "overflow_y": null,
            "padding": null,
            "right": null,
            "top": null,
            "visibility": null,
            "width": null
          }
        },
        "ba03271d83e2435eac2a31a1de753456": {
          "model_module": "@jupyter-widgets/controls",
          "model_name": "DescriptionStyleModel",
          "model_module_version": "1.5.0",
          "state": {
            "_model_module": "@jupyter-widgets/controls",
            "_model_module_version": "1.5.0",
            "_model_name": "DescriptionStyleModel",
            "_view_count": null,
            "_view_module": "@jupyter-widgets/base",
            "_view_module_version": "1.2.0",
            "_view_name": "StyleView",
            "description_width": ""
          }
        },
        "f4a9955a0d314b25bc9315dbef7eacdf": {
          "model_module": "@jupyter-widgets/base",
          "model_name": "LayoutModel",
          "model_module_version": "1.2.0",
          "state": {
            "_model_module": "@jupyter-widgets/base",
            "_model_module_version": "1.2.0",
            "_model_name": "LayoutModel",
            "_view_count": null,
            "_view_module": "@jupyter-widgets/base",
            "_view_module_version": "1.2.0",
            "_view_name": "LayoutView",
            "align_content": null,
            "align_items": null,
            "align_self": null,
            "border": null,
            "bottom": null,
            "display": null,
            "flex": null,
            "flex_flow": null,
            "grid_area": null,
            "grid_auto_columns": null,
            "grid_auto_flow": null,
            "grid_auto_rows": null,
            "grid_column": null,
            "grid_gap": null,
            "grid_row": null,
            "grid_template_areas": null,
            "grid_template_columns": null,
            "grid_template_rows": null,
            "height": null,
            "justify_content": null,
            "justify_items": null,
            "left": null,
            "margin": null,
            "max_height": null,
            "max_width": null,
            "min_height": null,
            "min_width": null,
            "object_fit": null,
            "object_position": null,
            "order": null,
            "overflow": null,
            "overflow_x": null,
            "overflow_y": null,
            "padding": null,
            "right": null,
            "top": null,
            "visibility": null,
            "width": null
          }
        },
        "58dbaa648c6e4552b8045f33bf7d49bd": {
          "model_module": "@jupyter-widgets/controls",
          "model_name": "ProgressStyleModel",
          "model_module_version": "1.5.0",
          "state": {
            "_model_module": "@jupyter-widgets/controls",
            "_model_module_version": "1.5.0",
            "_model_name": "ProgressStyleModel",
            "_view_count": null,
            "_view_module": "@jupyter-widgets/base",
            "_view_module_version": "1.2.0",
            "_view_name": "StyleView",
            "bar_color": null,
            "description_width": ""
          }
        },
        "c28782c7bbc84642b85a3f3b827b6b7e": {
          "model_module": "@jupyter-widgets/base",
          "model_name": "LayoutModel",
          "model_module_version": "1.2.0",
          "state": {
            "_model_module": "@jupyter-widgets/base",
            "_model_module_version": "1.2.0",
            "_model_name": "LayoutModel",
            "_view_count": null,
            "_view_module": "@jupyter-widgets/base",
            "_view_module_version": "1.2.0",
            "_view_name": "LayoutView",
            "align_content": null,
            "align_items": null,
            "align_self": null,
            "border": null,
            "bottom": null,
            "display": null,
            "flex": null,
            "flex_flow": null,
            "grid_area": null,
            "grid_auto_columns": null,
            "grid_auto_flow": null,
            "grid_auto_rows": null,
            "grid_column": null,
            "grid_gap": null,
            "grid_row": null,
            "grid_template_areas": null,
            "grid_template_columns": null,
            "grid_template_rows": null,
            "height": null,
            "justify_content": null,
            "justify_items": null,
            "left": null,
            "margin": null,
            "max_height": null,
            "max_width": null,
            "min_height": null,
            "min_width": null,
            "object_fit": null,
            "object_position": null,
            "order": null,
            "overflow": null,
            "overflow_x": null,
            "overflow_y": null,
            "padding": null,
            "right": null,
            "top": null,
            "visibility": null,
            "width": null
          }
        },
        "c5ba52c8738c409abf9aaf40a5b9ce66": {
          "model_module": "@jupyter-widgets/controls",
          "model_name": "DescriptionStyleModel",
          "model_module_version": "1.5.0",
          "state": {
            "_model_module": "@jupyter-widgets/controls",
            "_model_module_version": "1.5.0",
            "_model_name": "DescriptionStyleModel",
            "_view_count": null,
            "_view_module": "@jupyter-widgets/base",
            "_view_module_version": "1.2.0",
            "_view_name": "StyleView",
            "description_width": ""
          }
        },
        "1f650c55a1bc4cb5a399499ec18122f1": {
          "model_module": "@jupyter-widgets/controls",
          "model_name": "HBoxModel",
          "model_module_version": "1.5.0",
          "state": {
            "_dom_classes": [],
            "_model_module": "@jupyter-widgets/controls",
            "_model_module_version": "1.5.0",
            "_model_name": "HBoxModel",
            "_view_count": null,
            "_view_module": "@jupyter-widgets/controls",
            "_view_module_version": "1.5.0",
            "_view_name": "HBoxView",
            "box_style": "",
            "children": [
              "IPY_MODEL_ed753ae6c85d4115b2230dfbea50261e",
              "IPY_MODEL_0d0b2f6bc5c44368bebbce4a1d6ebd7d",
              "IPY_MODEL_8f0cc2c0fee14c65b70e5a5d3e982abf"
            ],
            "layout": "IPY_MODEL_1ea409f0e5604995a1fce1fd19d95beb"
          }
        },
        "ed753ae6c85d4115b2230dfbea50261e": {
          "model_module": "@jupyter-widgets/controls",
          "model_name": "HTMLModel",
          "model_module_version": "1.5.0",
          "state": {
            "_dom_classes": [],
            "_model_module": "@jupyter-widgets/controls",
            "_model_module_version": "1.5.0",
            "_model_name": "HTMLModel",
            "_view_count": null,
            "_view_module": "@jupyter-widgets/controls",
            "_view_module_version": "1.5.0",
            "_view_name": "HTMLView",
            "description": "",
            "description_tooltip": null,
            "layout": "IPY_MODEL_1a26f9d34c804a59afd08650b7d0735e",
            "placeholder": "​",
            "style": "IPY_MODEL_51edaf7cb7454c348878e03607ea6f79",
            "value": "Downloading (…)okenizer_config.json: 100%"
          }
        },
        "0d0b2f6bc5c44368bebbce4a1d6ebd7d": {
          "model_module": "@jupyter-widgets/controls",
          "model_name": "FloatProgressModel",
          "model_module_version": "1.5.0",
          "state": {
            "_dom_classes": [],
            "_model_module": "@jupyter-widgets/controls",
            "_model_module_version": "1.5.0",
            "_model_name": "FloatProgressModel",
            "_view_count": null,
            "_view_module": "@jupyter-widgets/controls",
            "_view_module_version": "1.5.0",
            "_view_name": "ProgressView",
            "bar_style": "success",
            "description": "",
            "description_tooltip": null,
            "layout": "IPY_MODEL_305f0168b1374df6ba84f588b87e7c9f",
            "max": 27,
            "min": 0,
            "orientation": "horizontal",
            "style": "IPY_MODEL_95ea78988ee941408d9df966424bbe5d",
            "value": 27
          }
        },
        "8f0cc2c0fee14c65b70e5a5d3e982abf": {
          "model_module": "@jupyter-widgets/controls",
          "model_name": "HTMLModel",
          "model_module_version": "1.5.0",
          "state": {
            "_dom_classes": [],
            "_model_module": "@jupyter-widgets/controls",
            "_model_module_version": "1.5.0",
            "_model_name": "HTMLModel",
            "_view_count": null,
            "_view_module": "@jupyter-widgets/controls",
            "_view_module_version": "1.5.0",
            "_view_name": "HTMLView",
            "description": "",
            "description_tooltip": null,
            "layout": "IPY_MODEL_d094c605b75b4d9495b033eb842ba4e0",
            "placeholder": "​",
            "style": "IPY_MODEL_ca2cbd6b6bc44c65ab017e63a5495389",
            "value": " 27.0/27.0 [00:00&lt;00:00, 1.66kB/s]"
          }
        },
        "1ea409f0e5604995a1fce1fd19d95beb": {
          "model_module": "@jupyter-widgets/base",
          "model_name": "LayoutModel",
          "model_module_version": "1.2.0",
          "state": {
            "_model_module": "@jupyter-widgets/base",
            "_model_module_version": "1.2.0",
            "_model_name": "LayoutModel",
            "_view_count": null,
            "_view_module": "@jupyter-widgets/base",
            "_view_module_version": "1.2.0",
            "_view_name": "LayoutView",
            "align_content": null,
            "align_items": null,
            "align_self": null,
            "border": null,
            "bottom": null,
            "display": null,
            "flex": null,
            "flex_flow": null,
            "grid_area": null,
            "grid_auto_columns": null,
            "grid_auto_flow": null,
            "grid_auto_rows": null,
            "grid_column": null,
            "grid_gap": null,
            "grid_row": null,
            "grid_template_areas": null,
            "grid_template_columns": null,
            "grid_template_rows": null,
            "height": null,
            "justify_content": null,
            "justify_items": null,
            "left": null,
            "margin": null,
            "max_height": null,
            "max_width": null,
            "min_height": null,
            "min_width": null,
            "object_fit": null,
            "object_position": null,
            "order": null,
            "overflow": null,
            "overflow_x": null,
            "overflow_y": null,
            "padding": null,
            "right": null,
            "top": null,
            "visibility": null,
            "width": null
          }
        },
        "1a26f9d34c804a59afd08650b7d0735e": {
          "model_module": "@jupyter-widgets/base",
          "model_name": "LayoutModel",
          "model_module_version": "1.2.0",
          "state": {
            "_model_module": "@jupyter-widgets/base",
            "_model_module_version": "1.2.0",
            "_model_name": "LayoutModel",
            "_view_count": null,
            "_view_module": "@jupyter-widgets/base",
            "_view_module_version": "1.2.0",
            "_view_name": "LayoutView",
            "align_content": null,
            "align_items": null,
            "align_self": null,
            "border": null,
            "bottom": null,
            "display": null,
            "flex": null,
            "flex_flow": null,
            "grid_area": null,
            "grid_auto_columns": null,
            "grid_auto_flow": null,
            "grid_auto_rows": null,
            "grid_column": null,
            "grid_gap": null,
            "grid_row": null,
            "grid_template_areas": null,
            "grid_template_columns": null,
            "grid_template_rows": null,
            "height": null,
            "justify_content": null,
            "justify_items": null,
            "left": null,
            "margin": null,
            "max_height": null,
            "max_width": null,
            "min_height": null,
            "min_width": null,
            "object_fit": null,
            "object_position": null,
            "order": null,
            "overflow": null,
            "overflow_x": null,
            "overflow_y": null,
            "padding": null,
            "right": null,
            "top": null,
            "visibility": null,
            "width": null
          }
        },
        "51edaf7cb7454c348878e03607ea6f79": {
          "model_module": "@jupyter-widgets/controls",
          "model_name": "DescriptionStyleModel",
          "model_module_version": "1.5.0",
          "state": {
            "_model_module": "@jupyter-widgets/controls",
            "_model_module_version": "1.5.0",
            "_model_name": "DescriptionStyleModel",
            "_view_count": null,
            "_view_module": "@jupyter-widgets/base",
            "_view_module_version": "1.2.0",
            "_view_name": "StyleView",
            "description_width": ""
          }
        },
        "305f0168b1374df6ba84f588b87e7c9f": {
          "model_module": "@jupyter-widgets/base",
          "model_name": "LayoutModel",
          "model_module_version": "1.2.0",
          "state": {
            "_model_module": "@jupyter-widgets/base",
            "_model_module_version": "1.2.0",
            "_model_name": "LayoutModel",
            "_view_count": null,
            "_view_module": "@jupyter-widgets/base",
            "_view_module_version": "1.2.0",
            "_view_name": "LayoutView",
            "align_content": null,
            "align_items": null,
            "align_self": null,
            "border": null,
            "bottom": null,
            "display": null,
            "flex": null,
            "flex_flow": null,
            "grid_area": null,
            "grid_auto_columns": null,
            "grid_auto_flow": null,
            "grid_auto_rows": null,
            "grid_column": null,
            "grid_gap": null,
            "grid_row": null,
            "grid_template_areas": null,
            "grid_template_columns": null,
            "grid_template_rows": null,
            "height": null,
            "justify_content": null,
            "justify_items": null,
            "left": null,
            "margin": null,
            "max_height": null,
            "max_width": null,
            "min_height": null,
            "min_width": null,
            "object_fit": null,
            "object_position": null,
            "order": null,
            "overflow": null,
            "overflow_x": null,
            "overflow_y": null,
            "padding": null,
            "right": null,
            "top": null,
            "visibility": null,
            "width": null
          }
        },
        "95ea78988ee941408d9df966424bbe5d": {
          "model_module": "@jupyter-widgets/controls",
          "model_name": "ProgressStyleModel",
          "model_module_version": "1.5.0",
          "state": {
            "_model_module": "@jupyter-widgets/controls",
            "_model_module_version": "1.5.0",
            "_model_name": "ProgressStyleModel",
            "_view_count": null,
            "_view_module": "@jupyter-widgets/base",
            "_view_module_version": "1.2.0",
            "_view_name": "StyleView",
            "bar_color": null,
            "description_width": ""
          }
        },
        "d094c605b75b4d9495b033eb842ba4e0": {
          "model_module": "@jupyter-widgets/base",
          "model_name": "LayoutModel",
          "model_module_version": "1.2.0",
          "state": {
            "_model_module": "@jupyter-widgets/base",
            "_model_module_version": "1.2.0",
            "_model_name": "LayoutModel",
            "_view_count": null,
            "_view_module": "@jupyter-widgets/base",
            "_view_module_version": "1.2.0",
            "_view_name": "LayoutView",
            "align_content": null,
            "align_items": null,
            "align_self": null,
            "border": null,
            "bottom": null,
            "display": null,
            "flex": null,
            "flex_flow": null,
            "grid_area": null,
            "grid_auto_columns": null,
            "grid_auto_flow": null,
            "grid_auto_rows": null,
            "grid_column": null,
            "grid_gap": null,
            "grid_row": null,
            "grid_template_areas": null,
            "grid_template_columns": null,
            "grid_template_rows": null,
            "height": null,
            "justify_content": null,
            "justify_items": null,
            "left": null,
            "margin": null,
            "max_height": null,
            "max_width": null,
            "min_height": null,
            "min_width": null,
            "object_fit": null,
            "object_position": null,
            "order": null,
            "overflow": null,
            "overflow_x": null,
            "overflow_y": null,
            "padding": null,
            "right": null,
            "top": null,
            "visibility": null,
            "width": null
          }
        },
        "ca2cbd6b6bc44c65ab017e63a5495389": {
          "model_module": "@jupyter-widgets/controls",
          "model_name": "DescriptionStyleModel",
          "model_module_version": "1.5.0",
          "state": {
            "_model_module": "@jupyter-widgets/controls",
            "_model_module_version": "1.5.0",
            "_model_name": "DescriptionStyleModel",
            "_view_count": null,
            "_view_module": "@jupyter-widgets/base",
            "_view_module_version": "1.2.0",
            "_view_name": "StyleView",
            "description_width": ""
          }
        },
        "58b8b1c615e047daaec64968cad45c5e": {
          "model_module": "@jupyter-widgets/controls",
          "model_name": "HBoxModel",
          "model_module_version": "1.5.0",
          "state": {
            "_dom_classes": [],
            "_model_module": "@jupyter-widgets/controls",
            "_model_module_version": "1.5.0",
            "_model_name": "HBoxModel",
            "_view_count": null,
            "_view_module": "@jupyter-widgets/controls",
            "_view_module_version": "1.5.0",
            "_view_name": "HBoxView",
            "box_style": "",
            "children": [
              "IPY_MODEL_168cea2664c8408ca66f9f74c7c341bf",
              "IPY_MODEL_6755f7d062f1416ea3e5a29ff31f4397",
              "IPY_MODEL_de2b4986b25a4dc8b3c1c71c09c4e3e7"
            ],
            "layout": "IPY_MODEL_83a594a94222450f9eb1b6f9eb15dc69"
          }
        },
        "168cea2664c8408ca66f9f74c7c341bf": {
          "model_module": "@jupyter-widgets/controls",
          "model_name": "HTMLModel",
          "model_module_version": "1.5.0",
          "state": {
            "_dom_classes": [],
            "_model_module": "@jupyter-widgets/controls",
            "_model_module_version": "1.5.0",
            "_model_name": "HTMLModel",
            "_view_count": null,
            "_view_module": "@jupyter-widgets/controls",
            "_view_module_version": "1.5.0",
            "_view_name": "HTMLView",
            "description": "",
            "description_tooltip": null,
            "layout": "IPY_MODEL_0166f47fb8494b8d8fef40e274491b65",
            "placeholder": "​",
            "style": "IPY_MODEL_a59cc03ee84a4bd7956623791436484f",
            "value": "Downloading (…)solve/main/vocab.txt: 100%"
          }
        },
        "6755f7d062f1416ea3e5a29ff31f4397": {
          "model_module": "@jupyter-widgets/controls",
          "model_name": "FloatProgressModel",
          "model_module_version": "1.5.0",
          "state": {
            "_dom_classes": [],
            "_model_module": "@jupyter-widgets/controls",
            "_model_module_version": "1.5.0",
            "_model_name": "FloatProgressModel",
            "_view_count": null,
            "_view_module": "@jupyter-widgets/controls",
            "_view_module_version": "1.5.0",
            "_view_name": "ProgressView",
            "bar_style": "success",
            "description": "",
            "description_tooltip": null,
            "layout": "IPY_MODEL_8d88d443466c43dea35ada64c2bca359",
            "max": 231508,
            "min": 0,
            "orientation": "horizontal",
            "style": "IPY_MODEL_6a9c889bfffc460cb46c42b92491f953",
            "value": 231508
          }
        },
        "de2b4986b25a4dc8b3c1c71c09c4e3e7": {
          "model_module": "@jupyter-widgets/controls",
          "model_name": "HTMLModel",
          "model_module_version": "1.5.0",
          "state": {
            "_dom_classes": [],
            "_model_module": "@jupyter-widgets/controls",
            "_model_module_version": "1.5.0",
            "_model_name": "HTMLModel",
            "_view_count": null,
            "_view_module": "@jupyter-widgets/controls",
            "_view_module_version": "1.5.0",
            "_view_name": "HTMLView",
            "description": "",
            "description_tooltip": null,
            "layout": "IPY_MODEL_8fdf49f2e0e441a8b4fd7e8e339a4da3",
            "placeholder": "​",
            "style": "IPY_MODEL_de449078ebd74c91acf6b3987434e5af",
            "value": " 232k/232k [00:00&lt;00:00, 7.60MB/s]"
          }
        },
        "83a594a94222450f9eb1b6f9eb15dc69": {
          "model_module": "@jupyter-widgets/base",
          "model_name": "LayoutModel",
          "model_module_version": "1.2.0",
          "state": {
            "_model_module": "@jupyter-widgets/base",
            "_model_module_version": "1.2.0",
            "_model_name": "LayoutModel",
            "_view_count": null,
            "_view_module": "@jupyter-widgets/base",
            "_view_module_version": "1.2.0",
            "_view_name": "LayoutView",
            "align_content": null,
            "align_items": null,
            "align_self": null,
            "border": null,
            "bottom": null,
            "display": null,
            "flex": null,
            "flex_flow": null,
            "grid_area": null,
            "grid_auto_columns": null,
            "grid_auto_flow": null,
            "grid_auto_rows": null,
            "grid_column": null,
            "grid_gap": null,
            "grid_row": null,
            "grid_template_areas": null,
            "grid_template_columns": null,
            "grid_template_rows": null,
            "height": null,
            "justify_content": null,
            "justify_items": null,
            "left": null,
            "margin": null,
            "max_height": null,
            "max_width": null,
            "min_height": null,
            "min_width": null,
            "object_fit": null,
            "object_position": null,
            "order": null,
            "overflow": null,
            "overflow_x": null,
            "overflow_y": null,
            "padding": null,
            "right": null,
            "top": null,
            "visibility": null,
            "width": null
          }
        },
        "0166f47fb8494b8d8fef40e274491b65": {
          "model_module": "@jupyter-widgets/base",
          "model_name": "LayoutModel",
          "model_module_version": "1.2.0",
          "state": {
            "_model_module": "@jupyter-widgets/base",
            "_model_module_version": "1.2.0",
            "_model_name": "LayoutModel",
            "_view_count": null,
            "_view_module": "@jupyter-widgets/base",
            "_view_module_version": "1.2.0",
            "_view_name": "LayoutView",
            "align_content": null,
            "align_items": null,
            "align_self": null,
            "border": null,
            "bottom": null,
            "display": null,
            "flex": null,
            "flex_flow": null,
            "grid_area": null,
            "grid_auto_columns": null,
            "grid_auto_flow": null,
            "grid_auto_rows": null,
            "grid_column": null,
            "grid_gap": null,
            "grid_row": null,
            "grid_template_areas": null,
            "grid_template_columns": null,
            "grid_template_rows": null,
            "height": null,
            "justify_content": null,
            "justify_items": null,
            "left": null,
            "margin": null,
            "max_height": null,
            "max_width": null,
            "min_height": null,
            "min_width": null,
            "object_fit": null,
            "object_position": null,
            "order": null,
            "overflow": null,
            "overflow_x": null,
            "overflow_y": null,
            "padding": null,
            "right": null,
            "top": null,
            "visibility": null,
            "width": null
          }
        },
        "a59cc03ee84a4bd7956623791436484f": {
          "model_module": "@jupyter-widgets/controls",
          "model_name": "DescriptionStyleModel",
          "model_module_version": "1.5.0",
          "state": {
            "_model_module": "@jupyter-widgets/controls",
            "_model_module_version": "1.5.0",
            "_model_name": "DescriptionStyleModel",
            "_view_count": null,
            "_view_module": "@jupyter-widgets/base",
            "_view_module_version": "1.2.0",
            "_view_name": "StyleView",
            "description_width": ""
          }
        },
        "8d88d443466c43dea35ada64c2bca359": {
          "model_module": "@jupyter-widgets/base",
          "model_name": "LayoutModel",
          "model_module_version": "1.2.0",
          "state": {
            "_model_module": "@jupyter-widgets/base",
            "_model_module_version": "1.2.0",
            "_model_name": "LayoutModel",
            "_view_count": null,
            "_view_module": "@jupyter-widgets/base",
            "_view_module_version": "1.2.0",
            "_view_name": "LayoutView",
            "align_content": null,
            "align_items": null,
            "align_self": null,
            "border": null,
            "bottom": null,
            "display": null,
            "flex": null,
            "flex_flow": null,
            "grid_area": null,
            "grid_auto_columns": null,
            "grid_auto_flow": null,
            "grid_auto_rows": null,
            "grid_column": null,
            "grid_gap": null,
            "grid_row": null,
            "grid_template_areas": null,
            "grid_template_columns": null,
            "grid_template_rows": null,
            "height": null,
            "justify_content": null,
            "justify_items": null,
            "left": null,
            "margin": null,
            "max_height": null,
            "max_width": null,
            "min_height": null,
            "min_width": null,
            "object_fit": null,
            "object_position": null,
            "order": null,
            "overflow": null,
            "overflow_x": null,
            "overflow_y": null,
            "padding": null,
            "right": null,
            "top": null,
            "visibility": null,
            "width": null
          }
        },
        "6a9c889bfffc460cb46c42b92491f953": {
          "model_module": "@jupyter-widgets/controls",
          "model_name": "ProgressStyleModel",
          "model_module_version": "1.5.0",
          "state": {
            "_model_module": "@jupyter-widgets/controls",
            "_model_module_version": "1.5.0",
            "_model_name": "ProgressStyleModel",
            "_view_count": null,
            "_view_module": "@jupyter-widgets/base",
            "_view_module_version": "1.2.0",
            "_view_name": "StyleView",
            "bar_color": null,
            "description_width": ""
          }
        },
        "8fdf49f2e0e441a8b4fd7e8e339a4da3": {
          "model_module": "@jupyter-widgets/base",
          "model_name": "LayoutModel",
          "model_module_version": "1.2.0",
          "state": {
            "_model_module": "@jupyter-widgets/base",
            "_model_module_version": "1.2.0",
            "_model_name": "LayoutModel",
            "_view_count": null,
            "_view_module": "@jupyter-widgets/base",
            "_view_module_version": "1.2.0",
            "_view_name": "LayoutView",
            "align_content": null,
            "align_items": null,
            "align_self": null,
            "border": null,
            "bottom": null,
            "display": null,
            "flex": null,
            "flex_flow": null,
            "grid_area": null,
            "grid_auto_columns": null,
            "grid_auto_flow": null,
            "grid_auto_rows": null,
            "grid_column": null,
            "grid_gap": null,
            "grid_row": null,
            "grid_template_areas": null,
            "grid_template_columns": null,
            "grid_template_rows": null,
            "height": null,
            "justify_content": null,
            "justify_items": null,
            "left": null,
            "margin": null,
            "max_height": null,
            "max_width": null,
            "min_height": null,
            "min_width": null,
            "object_fit": null,
            "object_position": null,
            "order": null,
            "overflow": null,
            "overflow_x": null,
            "overflow_y": null,
            "padding": null,
            "right": null,
            "top": null,
            "visibility": null,
            "width": null
          }
        },
        "de449078ebd74c91acf6b3987434e5af": {
          "model_module": "@jupyter-widgets/controls",
          "model_name": "DescriptionStyleModel",
          "model_module_version": "1.5.0",
          "state": {
            "_model_module": "@jupyter-widgets/controls",
            "_model_module_version": "1.5.0",
            "_model_name": "DescriptionStyleModel",
            "_view_count": null,
            "_view_module": "@jupyter-widgets/base",
            "_view_module_version": "1.2.0",
            "_view_name": "StyleView",
            "description_width": ""
          }
        },
        "414d4158c4e44ec3ab291307aa70cf87": {
          "model_module": "@jupyter-widgets/controls",
          "model_name": "HBoxModel",
          "model_module_version": "1.5.0",
          "state": {
            "_dom_classes": [],
            "_model_module": "@jupyter-widgets/controls",
            "_model_module_version": "1.5.0",
            "_model_name": "HBoxModel",
            "_view_count": null,
            "_view_module": "@jupyter-widgets/controls",
            "_view_module_version": "1.5.0",
            "_view_name": "HBoxView",
            "box_style": "",
            "children": [
              "IPY_MODEL_64b3d74b1849431886007ea57b48d002",
              "IPY_MODEL_3af183d875264bed8536f3c4bb33bc51",
              "IPY_MODEL_354e5c4adf95479d9069ba8ff56f9e37"
            ],
            "layout": "IPY_MODEL_7adb5483dcfb49b68af384682773cb62"
          }
        },
        "64b3d74b1849431886007ea57b48d002": {
          "model_module": "@jupyter-widgets/controls",
          "model_name": "HTMLModel",
          "model_module_version": "1.5.0",
          "state": {
            "_dom_classes": [],
            "_model_module": "@jupyter-widgets/controls",
            "_model_module_version": "1.5.0",
            "_model_name": "HTMLModel",
            "_view_count": null,
            "_view_module": "@jupyter-widgets/controls",
            "_view_module_version": "1.5.0",
            "_view_name": "HTMLView",
            "description": "",
            "description_tooltip": null,
            "layout": "IPY_MODEL_85d365b450124bf1af9388896f521476",
            "placeholder": "​",
            "style": "IPY_MODEL_28bfceefd99f483da60780b7b7a0e2ee",
            "value": "Downloading (…)/main/tokenizer.json: 100%"
          }
        },
        "3af183d875264bed8536f3c4bb33bc51": {
          "model_module": "@jupyter-widgets/controls",
          "model_name": "FloatProgressModel",
          "model_module_version": "1.5.0",
          "state": {
            "_dom_classes": [],
            "_model_module": "@jupyter-widgets/controls",
            "_model_module_version": "1.5.0",
            "_model_name": "FloatProgressModel",
            "_view_count": null,
            "_view_module": "@jupyter-widgets/controls",
            "_view_module_version": "1.5.0",
            "_view_name": "ProgressView",
            "bar_style": "success",
            "description": "",
            "description_tooltip": null,
            "layout": "IPY_MODEL_d9e09df19a494abaa80c000f53801c91",
            "max": 466062,
            "min": 0,
            "orientation": "horizontal",
            "style": "IPY_MODEL_b86e83a5c1584a36a4f677c9de4ec9e9",
            "value": 466062
          }
        },
        "354e5c4adf95479d9069ba8ff56f9e37": {
          "model_module": "@jupyter-widgets/controls",
          "model_name": "HTMLModel",
          "model_module_version": "1.5.0",
          "state": {
            "_dom_classes": [],
            "_model_module": "@jupyter-widgets/controls",
            "_model_module_version": "1.5.0",
            "_model_name": "HTMLModel",
            "_view_count": null,
            "_view_module": "@jupyter-widgets/controls",
            "_view_module_version": "1.5.0",
            "_view_name": "HTMLView",
            "description": "",
            "description_tooltip": null,
            "layout": "IPY_MODEL_7ff615a49e634c44b7fc2d3bf6d7ac74",
            "placeholder": "​",
            "style": "IPY_MODEL_7baff82a5e084fa191d29ae11cddb68b",
            "value": " 466k/466k [00:00&lt;00:00, 2.42MB/s]"
          }
        },
        "7adb5483dcfb49b68af384682773cb62": {
          "model_module": "@jupyter-widgets/base",
          "model_name": "LayoutModel",
          "model_module_version": "1.2.0",
          "state": {
            "_model_module": "@jupyter-widgets/base",
            "_model_module_version": "1.2.0",
            "_model_name": "LayoutModel",
            "_view_count": null,
            "_view_module": "@jupyter-widgets/base",
            "_view_module_version": "1.2.0",
            "_view_name": "LayoutView",
            "align_content": null,
            "align_items": null,
            "align_self": null,
            "border": null,
            "bottom": null,
            "display": null,
            "flex": null,
            "flex_flow": null,
            "grid_area": null,
            "grid_auto_columns": null,
            "grid_auto_flow": null,
            "grid_auto_rows": null,
            "grid_column": null,
            "grid_gap": null,
            "grid_row": null,
            "grid_template_areas": null,
            "grid_template_columns": null,
            "grid_template_rows": null,
            "height": null,
            "justify_content": null,
            "justify_items": null,
            "left": null,
            "margin": null,
            "max_height": null,
            "max_width": null,
            "min_height": null,
            "min_width": null,
            "object_fit": null,
            "object_position": null,
            "order": null,
            "overflow": null,
            "overflow_x": null,
            "overflow_y": null,
            "padding": null,
            "right": null,
            "top": null,
            "visibility": null,
            "width": null
          }
        },
        "85d365b450124bf1af9388896f521476": {
          "model_module": "@jupyter-widgets/base",
          "model_name": "LayoutModel",
          "model_module_version": "1.2.0",
          "state": {
            "_model_module": "@jupyter-widgets/base",
            "_model_module_version": "1.2.0",
            "_model_name": "LayoutModel",
            "_view_count": null,
            "_view_module": "@jupyter-widgets/base",
            "_view_module_version": "1.2.0",
            "_view_name": "LayoutView",
            "align_content": null,
            "align_items": null,
            "align_self": null,
            "border": null,
            "bottom": null,
            "display": null,
            "flex": null,
            "flex_flow": null,
            "grid_area": null,
            "grid_auto_columns": null,
            "grid_auto_flow": null,
            "grid_auto_rows": null,
            "grid_column": null,
            "grid_gap": null,
            "grid_row": null,
            "grid_template_areas": null,
            "grid_template_columns": null,
            "grid_template_rows": null,
            "height": null,
            "justify_content": null,
            "justify_items": null,
            "left": null,
            "margin": null,
            "max_height": null,
            "max_width": null,
            "min_height": null,
            "min_width": null,
            "object_fit": null,
            "object_position": null,
            "order": null,
            "overflow": null,
            "overflow_x": null,
            "overflow_y": null,
            "padding": null,
            "right": null,
            "top": null,
            "visibility": null,
            "width": null
          }
        },
        "28bfceefd99f483da60780b7b7a0e2ee": {
          "model_module": "@jupyter-widgets/controls",
          "model_name": "DescriptionStyleModel",
          "model_module_version": "1.5.0",
          "state": {
            "_model_module": "@jupyter-widgets/controls",
            "_model_module_version": "1.5.0",
            "_model_name": "DescriptionStyleModel",
            "_view_count": null,
            "_view_module": "@jupyter-widgets/base",
            "_view_module_version": "1.2.0",
            "_view_name": "StyleView",
            "description_width": ""
          }
        },
        "d9e09df19a494abaa80c000f53801c91": {
          "model_module": "@jupyter-widgets/base",
          "model_name": "LayoutModel",
          "model_module_version": "1.2.0",
          "state": {
            "_model_module": "@jupyter-widgets/base",
            "_model_module_version": "1.2.0",
            "_model_name": "LayoutModel",
            "_view_count": null,
            "_view_module": "@jupyter-widgets/base",
            "_view_module_version": "1.2.0",
            "_view_name": "LayoutView",
            "align_content": null,
            "align_items": null,
            "align_self": null,
            "border": null,
            "bottom": null,
            "display": null,
            "flex": null,
            "flex_flow": null,
            "grid_area": null,
            "grid_auto_columns": null,
            "grid_auto_flow": null,
            "grid_auto_rows": null,
            "grid_column": null,
            "grid_gap": null,
            "grid_row": null,
            "grid_template_areas": null,
            "grid_template_columns": null,
            "grid_template_rows": null,
            "height": null,
            "justify_content": null,
            "justify_items": null,
            "left": null,
            "margin": null,
            "max_height": null,
            "max_width": null,
            "min_height": null,
            "min_width": null,
            "object_fit": null,
            "object_position": null,
            "order": null,
            "overflow": null,
            "overflow_x": null,
            "overflow_y": null,
            "padding": null,
            "right": null,
            "top": null,
            "visibility": null,
            "width": null
          }
        },
        "b86e83a5c1584a36a4f677c9de4ec9e9": {
          "model_module": "@jupyter-widgets/controls",
          "model_name": "ProgressStyleModel",
          "model_module_version": "1.5.0",
          "state": {
            "_model_module": "@jupyter-widgets/controls",
            "_model_module_version": "1.5.0",
            "_model_name": "ProgressStyleModel",
            "_view_count": null,
            "_view_module": "@jupyter-widgets/base",
            "_view_module_version": "1.2.0",
            "_view_name": "StyleView",
            "bar_color": null,
            "description_width": ""
          }
        },
        "7ff615a49e634c44b7fc2d3bf6d7ac74": {
          "model_module": "@jupyter-widgets/base",
          "model_name": "LayoutModel",
          "model_module_version": "1.2.0",
          "state": {
            "_model_module": "@jupyter-widgets/base",
            "_model_module_version": "1.2.0",
            "_model_name": "LayoutModel",
            "_view_count": null,
            "_view_module": "@jupyter-widgets/base",
            "_view_module_version": "1.2.0",
            "_view_name": "LayoutView",
            "align_content": null,
            "align_items": null,
            "align_self": null,
            "border": null,
            "bottom": null,
            "display": null,
            "flex": null,
            "flex_flow": null,
            "grid_area": null,
            "grid_auto_columns": null,
            "grid_auto_flow": null,
            "grid_auto_rows": null,
            "grid_column": null,
            "grid_gap": null,
            "grid_row": null,
            "grid_template_areas": null,
            "grid_template_columns": null,
            "grid_template_rows": null,
            "height": null,
            "justify_content": null,
            "justify_items": null,
            "left": null,
            "margin": null,
            "max_height": null,
            "max_width": null,
            "min_height": null,
            "min_width": null,
            "object_fit": null,
            "object_position": null,
            "order": null,
            "overflow": null,
            "overflow_x": null,
            "overflow_y": null,
            "padding": null,
            "right": null,
            "top": null,
            "visibility": null,
            "width": null
          }
        },
        "7baff82a5e084fa191d29ae11cddb68b": {
          "model_module": "@jupyter-widgets/controls",
          "model_name": "DescriptionStyleModel",
          "model_module_version": "1.5.0",
          "state": {
            "_model_module": "@jupyter-widgets/controls",
            "_model_module_version": "1.5.0",
            "_model_name": "DescriptionStyleModel",
            "_view_count": null,
            "_view_module": "@jupyter-widgets/base",
            "_view_module_version": "1.2.0",
            "_view_name": "StyleView",
            "description_width": ""
          }
        }
      }
    }
  },
  "nbformat": 4,
  "nbformat_minor": 5
}